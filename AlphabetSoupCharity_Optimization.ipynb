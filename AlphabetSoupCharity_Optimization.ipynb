{
  "nbformat": 4,
  "nbformat_minor": 0,
  "metadata": {
    "colab": {
      "provenance": []
    },
    "kernelspec": {
      "name": "python3",
      "display_name": "Python 3"
    },
    "language_info": {
      "name": "python"
    }
  },
  "cells": [
    {
      "cell_type": "code",
      "execution_count": 32,
      "metadata": {
        "colab": {
          "base_uri": "https://localhost:8080/"
        },
        "id": "tISF5XihexuU",
        "outputId": "ad72e926-a7ef-4b3c-f43d-e54ce730bf73"
      },
      "outputs": [
        {
          "output_type": "stream",
          "name": "stdout",
          "text": [
            "Hit:1 https://cloud.r-project.org/bin/linux/ubuntu focal-cran40/ InRelease\n",
            "Ign:2 https://developer.download.nvidia.com/compute/machine-learning/repos/ubuntu2004/x86_64  InRelease\n",
            "Hit:3 https://developer.download.nvidia.com/compute/cuda/repos/ubuntu2004/x86_64  InRelease\n",
            "Hit:4 http://ppa.launchpad.net/c2d4u.team/c2d4u4.0+/ubuntu focal InRelease\n",
            "Hit:5 https://developer.download.nvidia.com/compute/machine-learning/repos/ubuntu2004/x86_64  Release\n",
            "Get:6 http://security.ubuntu.com/ubuntu focal-security InRelease [114 kB]\n",
            "Hit:7 http://archive.ubuntu.com/ubuntu focal InRelease\n",
            "Get:8 http://archive.ubuntu.com/ubuntu focal-updates InRelease [114 kB]\n",
            "Hit:9 http://ppa.launchpad.net/cran/libgit2/ubuntu focal InRelease\n",
            "Hit:10 http://ppa.launchpad.net/deadsnakes/ppa/ubuntu focal InRelease\n",
            "Get:11 http://archive.ubuntu.com/ubuntu focal-backports InRelease [108 kB]\n",
            "Hit:12 http://ppa.launchpad.net/graphics-drivers/ppa/ubuntu focal InRelease\n",
            "Fetched 336 kB in 7s (50.5 kB/s)\n",
            "Reading package lists... Done\n"
          ]
        }
      ],
      "source": [
        "import os\n",
        "# Find the latest version of spark 3.0  from http://www.apache.org/dist/spark/ and enter as the spark version\n",
        "# For example:\n",
        "# spark_version = 'spark-3.0.3'\n",
        "spark_version = 'spark-3.2.3'\n",
        "os.environ['SPARK_VERSION']=spark_version\n",
        "\n",
        "# Install Spark and Java\n",
        "!apt-get update\n",
        "!apt-get install openjdk-11-jdk-headless -qq > /dev/null\n",
        "!wget -q http://www.apache.org/dist/spark/$SPARK_VERSION/$SPARK_VERSION-bin-hadoop2.7.tgz\n",
        "!tar xf $SPARK_VERSION-bin-hadoop2.7.tgz\n",
        "!pip install -q findspark\n",
        "\n",
        "# Set Environment Variables\n",
        "import os\n",
        "os.environ[\"JAVA_HOME\"] = \"/usr/lib/jvm/java-11-openjdk-amd64\"\n",
        "os.environ[\"SPARK_HOME\"] = f\"/content/{spark_version}-bin-hadoop2.7\"\n",
        "\n",
        "# Start a SparkSession\n",
        "import findspark\n",
        "findspark.init()"
      ]
    },
    {
      "cell_type": "markdown",
      "source": [
        "### Deliverable 3: Optimize the Model: Leaving 'NAME' feature\n",
        "\n"
      ],
      "metadata": {
        "id": "Xt1RwssdfY0j"
      }
    },
    {
      "cell_type": "markdown",
      "source": [
        "#### Preprocessing the Data for a Neural Network"
      ],
      "metadata": {
        "id": "soV0ZUOtsP4Y"
      }
    },
    {
      "cell_type": "code",
      "source": [
        "# Import our dependencies\n",
        "from sklearn.model_selection import train_test_split\n",
        "from sklearn.preprocessing import StandardScaler,OneHotEncoder\n",
        "import pandas as pd\n",
        "import tensorflow as tf\n",
        "\n",
        "#  Import and read the charity_data.csv.\n",
        "import pandas as pd \n",
        "application_df = pd.read_csv(\"https://raw.githubusercontent.com/ArmineKhanan/Neural_Network_Charity_Analysis/main/Resources/charity_data.csv\")\n",
        "application_df.head()"
      ],
      "metadata": {
        "colab": {
          "base_uri": "https://localhost:8080/",
          "height": 496
        },
        "id": "LOQunpwlfbPg",
        "outputId": "5efe4557-d1a0-41b5-a352-087f10de973d"
      },
      "execution_count": 33,
      "outputs": [
        {
          "output_type": "execute_result",
          "data": {
            "text/plain": [
              "        EIN                                      NAME APPLICATION_TYPE  \\\n",
              "0  10520599              BLUE KNIGHTS MOTORCYCLE CLUB              T10   \n",
              "1  10531628    AMERICAN CHESAPEAKE CLUB CHARITABLE TR               T3   \n",
              "2  10547893        ST CLOUD PROFESSIONAL FIREFIGHTERS               T5   \n",
              "3  10553066            SOUTHSIDE ATHLETIC ASSOCIATION               T3   \n",
              "4  10556103  GENETIC RESEARCH INSTITUTE OF THE DESERT               T3   \n",
              "\n",
              "        AFFILIATION CLASSIFICATION      USE_CASE  ORGANIZATION  STATUS  \\\n",
              "0       Independent          C1000    ProductDev   Association       1   \n",
              "1       Independent          C2000  Preservation  Co-operative       1   \n",
              "2  CompanySponsored          C3000    ProductDev   Association       1   \n",
              "3  CompanySponsored          C2000  Preservation         Trust       1   \n",
              "4       Independent          C1000     Heathcare         Trust       1   \n",
              "\n",
              "      INCOME_AMT SPECIAL_CONSIDERATIONS  ASK_AMT  IS_SUCCESSFUL  \n",
              "0              0                      N     5000              1  \n",
              "1         1-9999                      N   108590              1  \n",
              "2              0                      N     5000              0  \n",
              "3    10000-24999                      N     6692              1  \n",
              "4  100000-499999                      N   142590              1  "
            ],
            "text/html": [
              "\n",
              "  <div id=\"df-20c57670-5f57-49f9-a8f4-fe5269700792\">\n",
              "    <div class=\"colab-df-container\">\n",
              "      <div>\n",
              "<style scoped>\n",
              "    .dataframe tbody tr th:only-of-type {\n",
              "        vertical-align: middle;\n",
              "    }\n",
              "\n",
              "    .dataframe tbody tr th {\n",
              "        vertical-align: top;\n",
              "    }\n",
              "\n",
              "    .dataframe thead th {\n",
              "        text-align: right;\n",
              "    }\n",
              "</style>\n",
              "<table border=\"1\" class=\"dataframe\">\n",
              "  <thead>\n",
              "    <tr style=\"text-align: right;\">\n",
              "      <th></th>\n",
              "      <th>EIN</th>\n",
              "      <th>NAME</th>\n",
              "      <th>APPLICATION_TYPE</th>\n",
              "      <th>AFFILIATION</th>\n",
              "      <th>CLASSIFICATION</th>\n",
              "      <th>USE_CASE</th>\n",
              "      <th>ORGANIZATION</th>\n",
              "      <th>STATUS</th>\n",
              "      <th>INCOME_AMT</th>\n",
              "      <th>SPECIAL_CONSIDERATIONS</th>\n",
              "      <th>ASK_AMT</th>\n",
              "      <th>IS_SUCCESSFUL</th>\n",
              "    </tr>\n",
              "  </thead>\n",
              "  <tbody>\n",
              "    <tr>\n",
              "      <th>0</th>\n",
              "      <td>10520599</td>\n",
              "      <td>BLUE KNIGHTS MOTORCYCLE CLUB</td>\n",
              "      <td>T10</td>\n",
              "      <td>Independent</td>\n",
              "      <td>C1000</td>\n",
              "      <td>ProductDev</td>\n",
              "      <td>Association</td>\n",
              "      <td>1</td>\n",
              "      <td>0</td>\n",
              "      <td>N</td>\n",
              "      <td>5000</td>\n",
              "      <td>1</td>\n",
              "    </tr>\n",
              "    <tr>\n",
              "      <th>1</th>\n",
              "      <td>10531628</td>\n",
              "      <td>AMERICAN CHESAPEAKE CLUB CHARITABLE TR</td>\n",
              "      <td>T3</td>\n",
              "      <td>Independent</td>\n",
              "      <td>C2000</td>\n",
              "      <td>Preservation</td>\n",
              "      <td>Co-operative</td>\n",
              "      <td>1</td>\n",
              "      <td>1-9999</td>\n",
              "      <td>N</td>\n",
              "      <td>108590</td>\n",
              "      <td>1</td>\n",
              "    </tr>\n",
              "    <tr>\n",
              "      <th>2</th>\n",
              "      <td>10547893</td>\n",
              "      <td>ST CLOUD PROFESSIONAL FIREFIGHTERS</td>\n",
              "      <td>T5</td>\n",
              "      <td>CompanySponsored</td>\n",
              "      <td>C3000</td>\n",
              "      <td>ProductDev</td>\n",
              "      <td>Association</td>\n",
              "      <td>1</td>\n",
              "      <td>0</td>\n",
              "      <td>N</td>\n",
              "      <td>5000</td>\n",
              "      <td>0</td>\n",
              "    </tr>\n",
              "    <tr>\n",
              "      <th>3</th>\n",
              "      <td>10553066</td>\n",
              "      <td>SOUTHSIDE ATHLETIC ASSOCIATION</td>\n",
              "      <td>T3</td>\n",
              "      <td>CompanySponsored</td>\n",
              "      <td>C2000</td>\n",
              "      <td>Preservation</td>\n",
              "      <td>Trust</td>\n",
              "      <td>1</td>\n",
              "      <td>10000-24999</td>\n",
              "      <td>N</td>\n",
              "      <td>6692</td>\n",
              "      <td>1</td>\n",
              "    </tr>\n",
              "    <tr>\n",
              "      <th>4</th>\n",
              "      <td>10556103</td>\n",
              "      <td>GENETIC RESEARCH INSTITUTE OF THE DESERT</td>\n",
              "      <td>T3</td>\n",
              "      <td>Independent</td>\n",
              "      <td>C1000</td>\n",
              "      <td>Heathcare</td>\n",
              "      <td>Trust</td>\n",
              "      <td>1</td>\n",
              "      <td>100000-499999</td>\n",
              "      <td>N</td>\n",
              "      <td>142590</td>\n",
              "      <td>1</td>\n",
              "    </tr>\n",
              "  </tbody>\n",
              "</table>\n",
              "</div>\n",
              "      <button class=\"colab-df-convert\" onclick=\"convertToInteractive('df-20c57670-5f57-49f9-a8f4-fe5269700792')\"\n",
              "              title=\"Convert this dataframe to an interactive table.\"\n",
              "              style=\"display:none;\">\n",
              "        \n",
              "  <svg xmlns=\"http://www.w3.org/2000/svg\" height=\"24px\"viewBox=\"0 0 24 24\"\n",
              "       width=\"24px\">\n",
              "    <path d=\"M0 0h24v24H0V0z\" fill=\"none\"/>\n",
              "    <path d=\"M18.56 5.44l.94 2.06.94-2.06 2.06-.94-2.06-.94-.94-2.06-.94 2.06-2.06.94zm-11 1L8.5 8.5l.94-2.06 2.06-.94-2.06-.94L8.5 2.5l-.94 2.06-2.06.94zm10 10l.94 2.06.94-2.06 2.06-.94-2.06-.94-.94-2.06-.94 2.06-2.06.94z\"/><path d=\"M17.41 7.96l-1.37-1.37c-.4-.4-.92-.59-1.43-.59-.52 0-1.04.2-1.43.59L10.3 9.45l-7.72 7.72c-.78.78-.78 2.05 0 2.83L4 21.41c.39.39.9.59 1.41.59.51 0 1.02-.2 1.41-.59l7.78-7.78 2.81-2.81c.8-.78.8-2.07 0-2.86zM5.41 20L4 18.59l7.72-7.72 1.47 1.35L5.41 20z\"/>\n",
              "  </svg>\n",
              "      </button>\n",
              "      \n",
              "  <style>\n",
              "    .colab-df-container {\n",
              "      display:flex;\n",
              "      flex-wrap:wrap;\n",
              "      gap: 12px;\n",
              "    }\n",
              "\n",
              "    .colab-df-convert {\n",
              "      background-color: #E8F0FE;\n",
              "      border: none;\n",
              "      border-radius: 50%;\n",
              "      cursor: pointer;\n",
              "      display: none;\n",
              "      fill: #1967D2;\n",
              "      height: 32px;\n",
              "      padding: 0 0 0 0;\n",
              "      width: 32px;\n",
              "    }\n",
              "\n",
              "    .colab-df-convert:hover {\n",
              "      background-color: #E2EBFA;\n",
              "      box-shadow: 0px 1px 2px rgba(60, 64, 67, 0.3), 0px 1px 3px 1px rgba(60, 64, 67, 0.15);\n",
              "      fill: #174EA6;\n",
              "    }\n",
              "\n",
              "    [theme=dark] .colab-df-convert {\n",
              "      background-color: #3B4455;\n",
              "      fill: #D2E3FC;\n",
              "    }\n",
              "\n",
              "    [theme=dark] .colab-df-convert:hover {\n",
              "      background-color: #434B5C;\n",
              "      box-shadow: 0px 1px 3px 1px rgba(0, 0, 0, 0.15);\n",
              "      filter: drop-shadow(0px 1px 2px rgba(0, 0, 0, 0.3));\n",
              "      fill: #FFFFFF;\n",
              "    }\n",
              "  </style>\n",
              "\n",
              "      <script>\n",
              "        const buttonEl =\n",
              "          document.querySelector('#df-20c57670-5f57-49f9-a8f4-fe5269700792 button.colab-df-convert');\n",
              "        buttonEl.style.display =\n",
              "          google.colab.kernel.accessAllowed ? 'block' : 'none';\n",
              "\n",
              "        async function convertToInteractive(key) {\n",
              "          const element = document.querySelector('#df-20c57670-5f57-49f9-a8f4-fe5269700792');\n",
              "          const dataTable =\n",
              "            await google.colab.kernel.invokeFunction('convertToInteractive',\n",
              "                                                     [key], {});\n",
              "          if (!dataTable) return;\n",
              "\n",
              "          const docLinkHtml = 'Like what you see? Visit the ' +\n",
              "            '<a target=\"_blank\" href=https://colab.research.google.com/notebooks/data_table.ipynb>data table notebook</a>'\n",
              "            + ' to learn more about interactive tables.';\n",
              "          element.innerHTML = '';\n",
              "          dataTable['output_type'] = 'display_data';\n",
              "          await google.colab.output.renderOutput(dataTable, element);\n",
              "          const docLink = document.createElement('div');\n",
              "          docLink.innerHTML = docLinkHtml;\n",
              "          element.appendChild(docLink);\n",
              "        }\n",
              "      </script>\n",
              "    </div>\n",
              "  </div>\n",
              "  "
            ]
          },
          "metadata": {},
          "execution_count": 33
        }
      ]
    },
    {
      "cell_type": "code",
      "source": [
        "# Drop the non-beneficial ID columns, 'EIN' and 'NAME'.\n",
        "application_df = application_df.drop(['EIN'], axis=1)"
      ],
      "metadata": {
        "id": "pYCsNot8fkJw"
      },
      "execution_count": 34,
      "outputs": []
    },
    {
      "cell_type": "code",
      "source": [
        "# Determine the number of unique values in each column.\n",
        "# Drop the non-beneficial ID columns, 'EIN' and 'NAME'.\n",
        "application_df.nunique()"
      ],
      "metadata": {
        "colab": {
          "base_uri": "https://localhost:8080/"
        },
        "id": "e0wIWMlLhQpc",
        "outputId": "9948aaac-055c-46c7-e650-3a0fa422f9bd"
      },
      "execution_count": 35,
      "outputs": [
        {
          "output_type": "execute_result",
          "data": {
            "text/plain": [
              "NAME                      19568\n",
              "APPLICATION_TYPE             17\n",
              "AFFILIATION                   6\n",
              "CLASSIFICATION               71\n",
              "USE_CASE                      5\n",
              "ORGANIZATION                  4\n",
              "STATUS                        2\n",
              "INCOME_AMT                    9\n",
              "SPECIAL_CONSIDERATIONS        2\n",
              "ASK_AMT                    8747\n",
              "IS_SUCCESSFUL                 2\n",
              "dtype: int64"
            ]
          },
          "metadata": {},
          "execution_count": 35
        }
      ]
    },
    {
      "cell_type": "code",
      "source": [
        "application_df[\"NAME\"].value_counts().value_counts()"
      ],
      "metadata": {
        "colab": {
          "base_uri": "https://localhost:8080/"
        },
        "id": "tUtvcKlzovgI",
        "outputId": "c57030d5-783e-4bad-b8ac-06a7962127ec"
      },
      "execution_count": 36,
      "outputs": [
        {
          "output_type": "execute_result",
          "data": {
            "text/plain": [
              "PARENT BOOSTER USA INC                                                  1260\n",
              "TOPS CLUB INC                                                            765\n",
              "UNITED STATES BOWLING CONGRESS INC                                       700\n",
              "WASHINGTON STATE UNIVERSITY                                              492\n",
              "AMATEUR ATHLETIC UNION OF THE UNITED STATES INC                          408\n",
              "                                                                        ... \n",
              "ST LOUIS SLAM WOMENS FOOTBALL                                              1\n",
              "AIESEC ALUMNI IBEROAMERICA CORP                                            1\n",
              "WEALLBLEEDRED ORG INC                                                      1\n",
              "AMERICAN SOCIETY FOR STANDARDS IN MEDIUMSHIP & PSYCHICAL INVESTIGATI       1\n",
              "WATERHOUSE CHARITABLE TR                                                   1\n",
              "Name: NAME, Length: 19568, dtype: int64"
            ]
          },
          "metadata": {},
          "execution_count": 36
        }
      ]
    },
    {
      "cell_type": "code",
      "source": [
        "application_df[\"NAME\"].value_counts().value_counts()/application_df[\"NAME\"].value_counts().value_counts().sum()"
      ],
      "metadata": {
        "colab": {
          "base_uri": "https://localhost:8080/"
        },
        "id": "Os7LXX0SovtW",
        "outputId": "3f51b05a-2606-48db-f877-712e789a2d38"
      },
      "execution_count": 40,
      "outputs": [
        {
          "output_type": "execute_result",
          "data": {
            "text/plain": [
              "1      0.959526\n",
              "2      0.010987\n",
              "3      0.005264\n",
              "4      0.003679\n",
              "5      0.002453\n",
              "         ...   \n",
              "103    0.000051\n",
              "104    0.000051\n",
              "105    0.000051\n",
              "106    0.000051\n",
              "49     0.000051\n",
              "Name: NAME, Length: 92, dtype: float64"
            ]
          },
          "metadata": {},
          "execution_count": 40
        }
      ]
    },
    {
      "cell_type": "code",
      "source": [
        "# Determine which values to replace if counts are less than ...?\n",
        "replace_name = application_df[\"NAME\"].value_counts() \\\n",
        "    [application_df[\"NAME\"].value_counts() < 5] \\\n",
        "    .index.tolist()\n",
        "\n",
        "# Replace in dataframe\n",
        "for name in replace_name:\n",
        "    application_df.NAME = application_df.NAME.replace(name,\"Other\")\n",
        "    \n",
        "# Check to make sure binning was successful\n",
        "application_df.NAME.value_counts()"
      ],
      "metadata": {
        "colab": {
          "base_uri": "https://localhost:8080/"
        },
        "id": "cFdtBm00ov4W",
        "outputId": "cdf95269-8131-44a7-e975-9ae168a09ceb"
      },
      "execution_count": 42,
      "outputs": [
        {
          "output_type": "execute_result",
          "data": {
            "text/plain": [
              "Other                                                                19803\n",
              "PARENT BOOSTER USA INC                                                1260\n",
              "TOPS CLUB INC                                                          765\n",
              "UNITED STATES BOWLING CONGRESS INC                                     700\n",
              "WASHINGTON STATE UNIVERSITY                                            492\n",
              "                                                                     ...  \n",
              "GUILDS OF THE SANTA FE OPERA INC                                         5\n",
              "FAMILY MOTOR COACH ASSOCIATION                                           5\n",
              "JAMESTOWN SOCIETY                                                        5\n",
              "MOST WORSHIPFUL PRINCE HALL GRAND LODGE OF FREE & ACCEPTED MASONS        5\n",
              "PTA HAWAII CONGRESS                                                      5\n",
              "Name: NAME, Length: 403, dtype: int64"
            ]
          },
          "metadata": {},
          "execution_count": 42
        }
      ]
    },
    {
      "cell_type": "code",
      "source": [
        "# Look at APPLICATION_TYPE value counts for binning\n",
        "application_df[\"APPLICATION_TYPE\"].value_counts()"
      ],
      "metadata": {
        "colab": {
          "base_uri": "https://localhost:8080/"
        },
        "id": "SpF6tLwyhVD9",
        "outputId": "9c28876f-7b6b-4525-8fdd-ee6ebbc4b200"
      },
      "execution_count": 43,
      "outputs": [
        {
          "output_type": "execute_result",
          "data": {
            "text/plain": [
              "T3     27037\n",
              "T4      1542\n",
              "T6      1216\n",
              "T5      1173\n",
              "T19     1065\n",
              "T8       737\n",
              "T7       725\n",
              "T10      528\n",
              "T9       156\n",
              "T13       66\n",
              "T12       27\n",
              "T2        16\n",
              "T25        3\n",
              "T14        3\n",
              "T29        2\n",
              "T15        2\n",
              "T17        1\n",
              "Name: APPLICATION_TYPE, dtype: int64"
            ]
          },
          "metadata": {},
          "execution_count": 43
        }
      ]
    },
    {
      "cell_type": "code",
      "source": [
        "# Visualize the value counts of APPLICATION_TYPE\n",
        "application_df[\"APPLICATION_TYPE\"].value_counts().plot.density()"
      ],
      "metadata": {
        "colab": {
          "base_uri": "https://localhost:8080/",
          "height": 283
        },
        "id": "mLqr-KI2hX4N",
        "outputId": "02a4e879-1329-47a3-a928-76004878bd5b"
      },
      "execution_count": 44,
      "outputs": [
        {
          "output_type": "execute_result",
          "data": {
            "text/plain": [
              "<matplotlib.axes._subplots.AxesSubplot at 0x7fe24e599760>"
            ]
          },
          "metadata": {},
          "execution_count": 44
        },
        {
          "output_type": "display_data",
          "data": {
            "text/plain": [
              "<Figure size 432x288 with 1 Axes>"
            ],
            "image/png": "[encoded data removed]"
          },
          "metadata": {
            "needs_background": "light"
          }
        }
      ]
    },
    {
      "cell_type": "code",
      "source": [
        "# Determine which values to replace if counts are less than ...?\n",
        "replace_application = application_df[\"APPLICATION_TYPE\"].value_counts() \\\n",
        "    [application_df[\"APPLICATION_TYPE\"].value_counts() < 500] \\\n",
        "    .index.tolist()\n",
        "\n",
        "# Replace in dataframe\n",
        "for app in replace_application:\n",
        "    application_df.APPLICATION_TYPE = application_df.APPLICATION_TYPE.replace(app,\"Other\")\n",
        "    \n",
        "# Check to make sure binning was successful\n",
        "application_df.APPLICATION_TYPE.value_counts()"
      ],
      "metadata": {
        "colab": {
          "base_uri": "https://localhost:8080/"
        },
        "id": "h71PKmd8hcso",
        "outputId": "acc2334e-71b7-4af5-ad59-5dd4d17811fd"
      },
      "execution_count": 45,
      "outputs": [
        {
          "output_type": "execute_result",
          "data": {
            "text/plain": [
              "T3       27037\n",
              "T4        1542\n",
              "T6        1216\n",
              "T5        1173\n",
              "T19       1065\n",
              "T8         737\n",
              "T7         725\n",
              "T10        528\n",
              "Other      276\n",
              "Name: APPLICATION_TYPE, dtype: int64"
            ]
          },
          "metadata": {},
          "execution_count": 45
        }
      ]
    },
    {
      "cell_type": "code",
      "source": [
        "# Look at CLASSIFICATION value counts for binning\n",
        "application_df[\"CLASSIFICATION\"].value_counts().head(50)"
      ],
      "metadata": {
        "colab": {
          "base_uri": "https://localhost:8080/"
        },
        "id": "RO7C7QbOhfQb",
        "outputId": "4bf4947f-92af-4ad1-df50-a77089e75834"
      },
      "execution_count": 46,
      "outputs": [
        {
          "output_type": "execute_result",
          "data": {
            "text/plain": [
              "C1000    17326\n",
              "C2000     6074\n",
              "C1200     4837\n",
              "C3000     1918\n",
              "C2100     1883\n",
              "C7000      777\n",
              "C1700      287\n",
              "C4000      194\n",
              "C5000      116\n",
              "C1270      114\n",
              "C2700      104\n",
              "C2800       95\n",
              "C7100       75\n",
              "C1300       58\n",
              "C1280       50\n",
              "C1230       36\n",
              "C1400       34\n",
              "C7200       32\n",
              "C2300       32\n",
              "C1240       30\n",
              "C8000       20\n",
              "C7120       18\n",
              "C1500       16\n",
              "C1800       15\n",
              "C6000       15\n",
              "C1250       14\n",
              "C8200       11\n",
              "C1238       10\n",
              "C1278       10\n",
              "C1235        9\n",
              "C1237        9\n",
              "C7210        7\n",
              "C2400        6\n",
              "C1720        6\n",
              "C4100        6\n",
              "C1257        5\n",
              "C1600        5\n",
              "C1260        3\n",
              "C2710        3\n",
              "C0           3\n",
              "C3200        2\n",
              "C1234        2\n",
              "C1246        2\n",
              "C1267        2\n",
              "C1256        2\n",
              "C2190        1\n",
              "C4200        1\n",
              "C2600        1\n",
              "C5200        1\n",
              "C1370        1\n",
              "Name: CLASSIFICATION, dtype: int64"
            ]
          },
          "metadata": {},
          "execution_count": 46
        }
      ]
    },
    {
      "cell_type": "code",
      "source": [
        "# Visualize the value counts of CLASSIFICATION\n",
        "application_df[\"CLASSIFICATION\"].value_counts().plot.density()"
      ],
      "metadata": {
        "colab": {
          "base_uri": "https://localhost:8080/",
          "height": 284
        },
        "id": "nX6l3yAZhiJc",
        "outputId": "e5c16462-3e66-4e47-a0d1-db7ba91d2c69"
      },
      "execution_count": 47,
      "outputs": [
        {
          "output_type": "execute_result",
          "data": {
            "text/plain": [
              "<matplotlib.axes._subplots.AxesSubplot at 0x7fe24bba26a0>"
            ]
          },
          "metadata": {},
          "execution_count": 47
        },
        {
          "output_type": "display_data",
          "data": {
            "text/plain": [
              "<Figure size 432x288 with 1 Axes>"
            ],
            "image/png": "[encoded data removed]"
          },
          "metadata": {
            "needs_background": "light"
          }
        }
      ]
    },
    {
      "cell_type": "code",
      "source": [
        "# Determine which values to replace if counts are less than ..?\n",
        "replace_class = application_df[\"CLASSIFICATION\"].value_counts() \\\n",
        "    [application_df[\"CLASSIFICATION\"].value_counts() < 1000] \\\n",
        "    .index.tolist()\n",
        "\n",
        "# Replace in dataframe\n",
        "for cls in replace_class:\n",
        "    application_df.CLASSIFICATION = application_df.CLASSIFICATION.replace(cls,\"Other\")\n",
        "    \n",
        "# Check to make sure binning was successful\n",
        "application_df.CLASSIFICATION.value_counts()"
      ],
      "metadata": {
        "colab": {
          "base_uri": "https://localhost:8080/"
        },
        "id": "gJqa-ssYhlWX",
        "outputId": "46fc3d13-12ea-44db-a538-43920ee8016d"
      },
      "execution_count": 48,
      "outputs": [
        {
          "output_type": "execute_result",
          "data": {
            "text/plain": [
              "C1000    17326\n",
              "C2000     6074\n",
              "C1200     4837\n",
              "Other     2261\n",
              "C3000     1918\n",
              "C2100     1883\n",
              "Name: CLASSIFICATION, dtype: int64"
            ]
          },
          "metadata": {},
          "execution_count": 48
        }
      ]
    },
    {
      "cell_type": "code",
      "source": [
        "# Generate our categorical variable lists\n",
        "application_cat = application_df.dtypes[application_df.dtypes == \"object\"].index.tolist()\n",
        "application_df[application_cat].nunique().index.tolist()"
      ],
      "metadata": {
        "colab": {
          "base_uri": "https://localhost:8080/"
        },
        "id": "cOZweBtzhn1v",
        "outputId": "7cbbdbd7-16a7-4b35-8584-a91b0f472a3a"
      },
      "execution_count": 49,
      "outputs": [
        {
          "output_type": "execute_result",
          "data": {
            "text/plain": [
              "['NAME',\n",
              " 'APPLICATION_TYPE',\n",
              " 'AFFILIATION',\n",
              " 'CLASSIFICATION',\n",
              " 'USE_CASE',\n",
              " 'ORGANIZATION',\n",
              " 'INCOME_AMT',\n",
              " 'SPECIAL_CONSIDERATIONS']"
            ]
          },
          "metadata": {},
          "execution_count": 49
        }
      ]
    },
    {
      "cell_type": "code",
      "source": [
        "# Create a OneHotEncoder instance\n",
        "enc = OneHotEncoder(sparse=False)\n",
        "\n",
        "# Fit and transform the OneHotEncoder using the categorical variable list\n",
        "encode_df = pd.DataFrame(enc.fit_transform(application_df[application_cat]))\n",
        "\n",
        "# Add the encoded variable names to the dataframe\n",
        "encode_df.columns = enc.get_feature_names(application_cat)\n",
        "encode_df.head()"
      ],
      "metadata": {
        "colab": {
          "base_uri": "https://localhost:8080/",
          "height": 422
        },
        "id": "clRcGq26hq2e",
        "outputId": "fac8e7c3-fc03-4f5c-e58b-70c7e2db22e9"
      },
      "execution_count": 50,
      "outputs": [
        {
          "output_type": "stream",
          "name": "stderr",
          "text": [
            "/usr/local/lib/python3.8/dist-packages/sklearn/utils/deprecation.py:87: FutureWarning: Function get_feature_names is deprecated; get_feature_names is deprecated in 1.0 and will be removed in 1.2. Please use get_feature_names_out instead.\n",
            "  warnings.warn(msg, category=FutureWarning)\n"
          ]
        },
        {
          "output_type": "execute_result",
          "data": {
            "text/plain": [
              "   NAME_AACE INTERNATIONAL  NAME_ACE MENTOR PROGRAM OF AMERICA INC  \\\n",
              "0                      0.0                                     0.0   \n",
              "1                      0.0                                     0.0   \n",
              "2                      0.0                                     0.0   \n",
              "3                      0.0                                     0.0   \n",
              "4                      0.0                                     0.0   \n",
              "\n",
              "   NAME_ACTS MINISTRY  NAME_ACTS MISSIONS  \\\n",
              "0                 0.0                 0.0   \n",
              "1                 0.0                 0.0   \n",
              "2                 0.0                 0.0   \n",
              "3                 0.0                 0.0   \n",
              "4                 0.0                 0.0   \n",
              "\n",
              "   NAME_AFRICAN-AMERICAN POSTAL LEAGUE UNITED FOR SUCCESS A-PLUS  \\\n",
              "0                                                0.0               \n",
              "1                                                0.0               \n",
              "2                                                0.0               \n",
              "3                                                0.0               \n",
              "4                                                0.0               \n",
              "\n",
              "   NAME_AIR FORCE ASSOCIATION  NAME_ALABAMA FEDERATION OF WOMENS CLUBS  \\\n",
              "0                         0.0                                      0.0   \n",
              "1                         0.0                                      0.0   \n",
              "2                         0.0                                      0.0   \n",
              "3                         0.0                                      0.0   \n",
              "4                         0.0                                      0.0   \n",
              "\n",
              "   NAME_ALABAMA TREASURE FOREST ASSOCIATION  \\\n",
              "0                                       0.0   \n",
              "1                                       0.0   \n",
              "2                                       0.0   \n",
              "3                                       0.0   \n",
              "4                                       0.0   \n",
              "\n",
              "   NAME_ALBANY STATE UNIVERSITY NATIONAL ALUMNI ASSOCIATION  \\\n",
              "0                                                0.0          \n",
              "1                                                0.0          \n",
              "2                                                0.0          \n",
              "3                                                0.0          \n",
              "4                                                0.0          \n",
              "\n",
              "   NAME_ALPHA PHI OMEGA  ...  INCOME_AMT_1-9999  INCOME_AMT_10000-24999  \\\n",
              "0                   0.0  ...                0.0                     0.0   \n",
              "1                   0.0  ...                1.0                     0.0   \n",
              "2                   0.0  ...                0.0                     0.0   \n",
              "3                   0.0  ...                0.0                     1.0   \n",
              "4                   0.0  ...                0.0                     0.0   \n",
              "\n",
              "   INCOME_AMT_100000-499999  INCOME_AMT_10M-50M  INCOME_AMT_1M-5M  \\\n",
              "0                       0.0                 0.0               0.0   \n",
              "1                       0.0                 0.0               0.0   \n",
              "2                       0.0                 0.0               0.0   \n",
              "3                       0.0                 0.0               0.0   \n",
              "4                       1.0                 0.0               0.0   \n",
              "\n",
              "   INCOME_AMT_25000-99999  INCOME_AMT_50M+  INCOME_AMT_5M-10M  \\\n",
              "0                     0.0              0.0                0.0   \n",
              "1                     0.0              0.0                0.0   \n",
              "2                     0.0              0.0                0.0   \n",
              "3                     0.0              0.0                0.0   \n",
              "4                     0.0              0.0                0.0   \n",
              "\n",
              "   SPECIAL_CONSIDERATIONS_N  SPECIAL_CONSIDERATIONS_Y  \n",
              "0                       1.0                       0.0  \n",
              "1                       1.0                       0.0  \n",
              "2                       1.0                       0.0  \n",
              "3                       1.0                       0.0  \n",
              "4                       1.0                       0.0  \n",
              "\n",
              "[5 rows x 444 columns]"
            ],
            "text/html": [
              "\n",
              "  <div id=\"df-3ac67ad7-70fe-4f34-ba0a-a00acd638d7e\">\n",
              "    <div class=\"colab-df-container\">\n",
              "      <div>\n",
              "<style scoped>\n",
              "    .dataframe tbody tr th:only-of-type {\n",
              "        vertical-align: middle;\n",
              "    }\n",
              "\n",
              "    .dataframe tbody tr th {\n",
              "        vertical-align: top;\n",
              "    }\n",
              "\n",
              "    .dataframe thead th {\n",
              "        text-align: right;\n",
              "    }\n",
              "</style>\n",
              "<table border=\"1\" class=\"dataframe\">\n",
              "  <thead>\n",
              "    <tr style=\"text-align: right;\">\n",
              "      <th></th>\n",
              "      <th>NAME_AACE INTERNATIONAL</th>\n",
              "      <th>NAME_ACE MENTOR PROGRAM OF AMERICA INC</th>\n",
              "      <th>NAME_ACTS MINISTRY</th>\n",
              "      <th>NAME_ACTS MISSIONS</th>\n",
              "      <th>NAME_AFRICAN-AMERICAN POSTAL LEAGUE UNITED FOR SUCCESS A-PLUS</th>\n",
              "      <th>NAME_AIR FORCE ASSOCIATION</th>\n",
              "      <th>NAME_ALABAMA FEDERATION OF WOMENS CLUBS</th>\n",
              "      <th>NAME_ALABAMA TREASURE FOREST ASSOCIATION</th>\n",
              "      <th>NAME_ALBANY STATE UNIVERSITY NATIONAL ALUMNI ASSOCIATION</th>\n",
              "      <th>NAME_ALPHA PHI OMEGA</th>\n",
              "      <th>...</th>\n",
              "      <th>INCOME_AMT_1-9999</th>\n",
              "      <th>INCOME_AMT_10000-24999</th>\n",
              "      <th>INCOME_AMT_100000-499999</th>\n",
              "      <th>INCOME_AMT_10M-50M</th>\n",
              "      <th>INCOME_AMT_1M-5M</th>\n",
              "      <th>INCOME_AMT_25000-99999</th>\n",
              "      <th>INCOME_AMT_50M+</th>\n",
              "      <th>INCOME_AMT_5M-10M</th>\n",
              "      <th>SPECIAL_CONSIDERATIONS_N</th>\n",
              "      <th>SPECIAL_CONSIDERATIONS_Y</th>\n",
              "    </tr>\n",
              "  </thead>\n",
              "  <tbody>\n",
              "    <tr>\n",
              "      <th>0</th>\n",
              "      <td>0.0</td>\n",
              "      <td>0.0</td>\n",
              "      <td>0.0</td>\n",
              "      <td>0.0</td>\n",
              "      <td>0.0</td>\n",
              "      <td>0.0</td>\n",
              "      <td>0.0</td>\n",
              "      <td>0.0</td>\n",
              "      <td>0.0</td>\n",
              "      <td>0.0</td>\n",
              "      <td>...</td>\n",
              "      <td>0.0</td>\n",
              "      <td>0.0</td>\n",
              "      <td>0.0</td>\n",
              "      <td>0.0</td>\n",
              "      <td>0.0</td>\n",
              "      <td>0.0</td>\n",
              "      <td>0.0</td>\n",
              "      <td>0.0</td>\n",
              "      <td>1.0</td>\n",
              "      <td>0.0</td>\n",
              "    </tr>\n",
              "    <tr>\n",
              "      <th>1</th>\n",
              "      <td>0.0</td>\n",
              "      <td>0.0</td>\n",
              "      <td>0.0</td>\n",
              "      <td>0.0</td>\n",
              "      <td>0.0</td>\n",
              "      <td>0.0</td>\n",
              "      <td>0.0</td>\n",
              "      <td>0.0</td>\n",
              "      <td>0.0</td>\n",
              "      <td>0.0</td>\n",
              "      <td>...</td>\n",
              "      <td>1.0</td>\n",
              "      <td>0.0</td>\n",
              "      <td>0.0</td>\n",
              "      <td>0.0</td>\n",
              "      <td>0.0</td>\n",
              "      <td>0.0</td>\n",
              "      <td>0.0</td>\n",
              "      <td>0.0</td>\n",
              "      <td>1.0</td>\n",
              "      <td>0.0</td>\n",
              "    </tr>\n",
              "    <tr>\n",
              "      <th>2</th>\n",
              "      <td>0.0</td>\n",
              "      <td>0.0</td>\n",
              "      <td>0.0</td>\n",
              "      <td>0.0</td>\n",
              "      <td>0.0</td>\n",
              "      <td>0.0</td>\n",
              "      <td>0.0</td>\n",
              "      <td>0.0</td>\n",
              "      <td>0.0</td>\n",
              "      <td>0.0</td>\n",
              "      <td>...</td>\n",
              "      <td>0.0</td>\n",
              "      <td>0.0</td>\n",
              "      <td>0.0</td>\n",
              "      <td>0.0</td>\n",
              "      <td>0.0</td>\n",
              "      <td>0.0</td>\n",
              "      <td>0.0</td>\n",
              "      <td>0.0</td>\n",
              "      <td>1.0</td>\n",
              "      <td>0.0</td>\n",
              "    </tr>\n",
              "    <tr>\n",
              "      <th>3</th>\n",
              "      <td>0.0</td>\n",
              "      <td>0.0</td>\n",
              "      <td>0.0</td>\n",
              "      <td>0.0</td>\n",
              "      <td>0.0</td>\n",
              "      <td>0.0</td>\n",
              "      <td>0.0</td>\n",
              "      <td>0.0</td>\n",
              "      <td>0.0</td>\n",
              "      <td>0.0</td>\n",
              "      <td>...</td>\n",
              "      <td>0.0</td>\n",
              "      <td>1.0</td>\n",
              "      <td>0.0</td>\n",
              "      <td>0.0</td>\n",
              "      <td>0.0</td>\n",
              "      <td>0.0</td>\n",
              "      <td>0.0</td>\n",
              "      <td>0.0</td>\n",
              "      <td>1.0</td>\n",
              "      <td>0.0</td>\n",
              "    </tr>\n",
              "    <tr>\n",
              "      <th>4</th>\n",
              "      <td>0.0</td>\n",
              "      <td>0.0</td>\n",
              "      <td>0.0</td>\n",
              "      <td>0.0</td>\n",
              "      <td>0.0</td>\n",
              "      <td>0.0</td>\n",
              "      <td>0.0</td>\n",
              "      <td>0.0</td>\n",
              "      <td>0.0</td>\n",
              "      <td>0.0</td>\n",
              "      <td>...</td>\n",
              "      <td>0.0</td>\n",
              "      <td>0.0</td>\n",
              "      <td>1.0</td>\n",
              "      <td>0.0</td>\n",
              "      <td>0.0</td>\n",
              "      <td>0.0</td>\n",
              "      <td>0.0</td>\n",
              "      <td>0.0</td>\n",
              "      <td>1.0</td>\n",
              "      <td>0.0</td>\n",
              "    </tr>\n",
              "  </tbody>\n",
              "</table>\n",
              "<p>5 rows × 444 columns</p>\n",
              "</div>\n",
              "      <button class=\"colab-df-convert\" onclick=\"convertToInteractive('df-3ac67ad7-70fe-4f34-ba0a-a00acd638d7e')\"\n",
              "              title=\"Convert this dataframe to an interactive table.\"\n",
              "              style=\"display:none;\">\n",
              "        \n",
              "  <svg xmlns=\"http://www.w3.org/2000/svg\" height=\"24px\"viewBox=\"0 0 24 24\"\n",
              "       width=\"24px\">\n",
              "    <path d=\"M0 0h24v24H0V0z\" fill=\"none\"/>\n",
              "    <path d=\"M18.56 5.44l.94 2.06.94-2.06 2.06-.94-2.06-.94-.94-2.06-.94 2.06-2.06.94zm-11 1L8.5 8.5l.94-2.06 2.06-.94-2.06-.94L8.5 2.5l-.94 2.06-2.06.94zm10 10l.94 2.06.94-2.06 2.06-.94-2.06-.94-.94-2.06-.94 2.06-2.06.94z\"/><path d=\"M17.41 7.96l-1.37-1.37c-.4-.4-.92-.59-1.43-.59-.52 0-1.04.2-1.43.59L10.3 9.45l-7.72 7.72c-.78.78-.78 2.05 0 2.83L4 21.41c.39.39.9.59 1.41.59.51 0 1.02-.2 1.41-.59l7.78-7.78 2.81-2.81c.8-.78.8-2.07 0-2.86zM5.41 20L4 18.59l7.72-7.72 1.47 1.35L5.41 20z\"/>\n",
              "  </svg>\n",
              "      </button>\n",
              "      \n",
              "  <style>\n",
              "    .colab-df-container {\n",
              "      display:flex;\n",
              "      flex-wrap:wrap;\n",
              "      gap: 12px;\n",
              "    }\n",
              "\n",
              "    .colab-df-convert {\n",
              "      background-color: #E8F0FE;\n",
              "      border: none;\n",
              "      border-radius: 50%;\n",
              "      cursor: pointer;\n",
              "      display: none;\n",
              "      fill: #1967D2;\n",
              "      height: 32px;\n",
              "      padding: 0 0 0 0;\n",
              "      width: 32px;\n",
              "    }\n",
              "\n",
              "    .colab-df-convert:hover {\n",
              "      background-color: #E2EBFA;\n",
              "      box-shadow: 0px 1px 2px rgba(60, 64, 67, 0.3), 0px 1px 3px 1px rgba(60, 64, 67, 0.15);\n",
              "      fill: #174EA6;\n",
              "    }\n",
              "\n",
              "    [theme=dark] .colab-df-convert {\n",
              "      background-color: #3B4455;\n",
              "      fill: #D2E3FC;\n",
              "    }\n",
              "\n",
              "    [theme=dark] .colab-df-convert:hover {\n",
              "      background-color: #434B5C;\n",
              "      box-shadow: 0px 1px 3px 1px rgba(0, 0, 0, 0.15);\n",
              "      filter: drop-shadow(0px 1px 2px rgba(0, 0, 0, 0.3));\n",
              "      fill: #FFFFFF;\n",
              "    }\n",
              "  </style>\n",
              "\n",
              "      <script>\n",
              "        const buttonEl =\n",
              "          document.querySelector('#df-3ac67ad7-70fe-4f34-ba0a-a00acd638d7e button.colab-df-convert');\n",
              "        buttonEl.style.display =\n",
              "          google.colab.kernel.accessAllowed ? 'block' : 'none';\n",
              "\n",
              "        async function convertToInteractive(key) {\n",
              "          const element = document.querySelector('#df-3ac67ad7-70fe-4f34-ba0a-a00acd638d7e');\n",
              "          const dataTable =\n",
              "            await google.colab.kernel.invokeFunction('convertToInteractive',\n",
              "                                                     [key], {});\n",
              "          if (!dataTable) return;\n",
              "\n",
              "          const docLinkHtml = 'Like what you see? Visit the ' +\n",
              "            '<a target=\"_blank\" href=https://colab.research.google.com/notebooks/data_table.ipynb>data table notebook</a>'\n",
              "            + ' to learn more about interactive tables.';\n",
              "          element.innerHTML = '';\n",
              "          dataTable['output_type'] = 'display_data';\n",
              "          await google.colab.output.renderOutput(dataTable, element);\n",
              "          const docLink = document.createElement('div');\n",
              "          docLink.innerHTML = docLinkHtml;\n",
              "          element.appendChild(docLink);\n",
              "        }\n",
              "      </script>\n",
              "    </div>\n",
              "  </div>\n",
              "  "
            ]
          },
          "metadata": {},
          "execution_count": 50
        }
      ]
    },
    {
      "cell_type": "code",
      "source": [
        "# Merge one-hot encoded features and drop the originals\n",
        "application_df = application_df.merge(encode_df,left_index=True, right_index=True)\n",
        "application_df = application_df.drop(application_cat,1)\n",
        "application_df.head()"
      ],
      "metadata": {
        "colab": {
          "base_uri": "https://localhost:8080/",
          "height": 422
        },
        "id": "ny8wpjY4htMJ",
        "outputId": "c3c4b5de-227d-4dca-81b6-43e300ca3b2d"
      },
      "execution_count": 51,
      "outputs": [
        {
          "output_type": "stream",
          "name": "stderr",
          "text": [
            "<ipython-input-51-fae914666e78>:3: FutureWarning: In a future version of pandas all arguments of DataFrame.drop except for the argument 'labels' will be keyword-only\n",
            "  application_df = application_df.drop(application_cat,1)\n"
          ]
        },
        {
          "output_type": "execute_result",
          "data": {
            "text/plain": [
              "   STATUS  ASK_AMT  IS_SUCCESSFUL  NAME_AACE INTERNATIONAL  \\\n",
              "0       1     5000              1                      0.0   \n",
              "1       1   108590              1                      0.0   \n",
              "2       1     5000              0                      0.0   \n",
              "3       1     6692              1                      0.0   \n",
              "4       1   142590              1                      0.0   \n",
              "\n",
              "   NAME_ACE MENTOR PROGRAM OF AMERICA INC  NAME_ACTS MINISTRY  \\\n",
              "0                                     0.0                 0.0   \n",
              "1                                     0.0                 0.0   \n",
              "2                                     0.0                 0.0   \n",
              "3                                     0.0                 0.0   \n",
              "4                                     0.0                 0.0   \n",
              "\n",
              "   NAME_ACTS MISSIONS  \\\n",
              "0                 0.0   \n",
              "1                 0.0   \n",
              "2                 0.0   \n",
              "3                 0.0   \n",
              "4                 0.0   \n",
              "\n",
              "   NAME_AFRICAN-AMERICAN POSTAL LEAGUE UNITED FOR SUCCESS A-PLUS  \\\n",
              "0                                                0.0               \n",
              "1                                                0.0               \n",
              "2                                                0.0               \n",
              "3                                                0.0               \n",
              "4                                                0.0               \n",
              "\n",
              "   NAME_AIR FORCE ASSOCIATION  NAME_ALABAMA FEDERATION OF WOMENS CLUBS  ...  \\\n",
              "0                         0.0                                      0.0  ...   \n",
              "1                         0.0                                      0.0  ...   \n",
              "2                         0.0                                      0.0  ...   \n",
              "3                         0.0                                      0.0  ...   \n",
              "4                         0.0                                      0.0  ...   \n",
              "\n",
              "   INCOME_AMT_1-9999  INCOME_AMT_10000-24999  INCOME_AMT_100000-499999  \\\n",
              "0                0.0                     0.0                       0.0   \n",
              "1                1.0                     0.0                       0.0   \n",
              "2                0.0                     0.0                       0.0   \n",
              "3                0.0                     1.0                       0.0   \n",
              "4                0.0                     0.0                       1.0   \n",
              "\n",
              "   INCOME_AMT_10M-50M  INCOME_AMT_1M-5M  INCOME_AMT_25000-99999  \\\n",
              "0                 0.0               0.0                     0.0   \n",
              "1                 0.0               0.0                     0.0   \n",
              "2                 0.0               0.0                     0.0   \n",
              "3                 0.0               0.0                     0.0   \n",
              "4                 0.0               0.0                     0.0   \n",
              "\n",
              "   INCOME_AMT_50M+  INCOME_AMT_5M-10M  SPECIAL_CONSIDERATIONS_N  \\\n",
              "0              0.0                0.0                       1.0   \n",
              "1              0.0                0.0                       1.0   \n",
              "2              0.0                0.0                       1.0   \n",
              "3              0.0                0.0                       1.0   \n",
              "4              0.0                0.0                       1.0   \n",
              "\n",
              "   SPECIAL_CONSIDERATIONS_Y  \n",
              "0                       0.0  \n",
              "1                       0.0  \n",
              "2                       0.0  \n",
              "3                       0.0  \n",
              "4                       0.0  \n",
              "\n",
              "[5 rows x 447 columns]"
            ],
            "text/html": [
              "\n",
              "  <div id=\"df-7aee4c43-66b1-428f-9343-391905e4f5ba\">\n",
              "    <div class=\"colab-df-container\">\n",
              "      <div>\n",
              "<style scoped>\n",
              "    .dataframe tbody tr th:only-of-type {\n",
              "        vertical-align: middle;\n",
              "    }\n",
              "\n",
              "    .dataframe tbody tr th {\n",
              "        vertical-align: top;\n",
              "    }\n",
              "\n",
              "    .dataframe thead th {\n",
              "        text-align: right;\n",
              "    }\n",
              "</style>\n",
              "<table border=\"1\" class=\"dataframe\">\n",
              "  <thead>\n",
              "    <tr style=\"text-align: right;\">\n",
              "      <th></th>\n",
              "      <th>STATUS</th>\n",
              "      <th>ASK_AMT</th>\n",
              "      <th>IS_SUCCESSFUL</th>\n",
              "      <th>NAME_AACE INTERNATIONAL</th>\n",
              "      <th>NAME_ACE MENTOR PROGRAM OF AMERICA INC</th>\n",
              "      <th>NAME_ACTS MINISTRY</th>\n",
              "      <th>NAME_ACTS MISSIONS</th>\n",
              "      <th>NAME_AFRICAN-AMERICAN POSTAL LEAGUE UNITED FOR SUCCESS A-PLUS</th>\n",
              "      <th>NAME_AIR FORCE ASSOCIATION</th>\n",
              "      <th>NAME_ALABAMA FEDERATION OF WOMENS CLUBS</th>\n",
              "      <th>...</th>\n",
              "      <th>INCOME_AMT_1-9999</th>\n",
              "      <th>INCOME_AMT_10000-24999</th>\n",
              "      <th>INCOME_AMT_100000-499999</th>\n",
              "      <th>INCOME_AMT_10M-50M</th>\n",
              "      <th>INCOME_AMT_1M-5M</th>\n",
              "      <th>INCOME_AMT_25000-99999</th>\n",
              "      <th>INCOME_AMT_50M+</th>\n",
              "      <th>INCOME_AMT_5M-10M</th>\n",
              "      <th>SPECIAL_CONSIDERATIONS_N</th>\n",
              "      <th>SPECIAL_CONSIDERATIONS_Y</th>\n",
              "    </tr>\n",
              "  </thead>\n",
              "  <tbody>\n",
              "    <tr>\n",
              "      <th>0</th>\n",
              "      <td>1</td>\n",
              "      <td>5000</td>\n",
              "      <td>1</td>\n",
              "      <td>0.0</td>\n",
              "      <td>0.0</td>\n",
              "      <td>0.0</td>\n",
              "      <td>0.0</td>\n",
              "      <td>0.0</td>\n",
              "      <td>0.0</td>\n",
              "      <td>0.0</td>\n",
              "      <td>...</td>\n",
              "      <td>0.0</td>\n",
              "      <td>0.0</td>\n",
              "      <td>0.0</td>\n",
              "      <td>0.0</td>\n",
              "      <td>0.0</td>\n",
              "      <td>0.0</td>\n",
              "      <td>0.0</td>\n",
              "      <td>0.0</td>\n",
              "      <td>1.0</td>\n",
              "      <td>0.0</td>\n",
              "    </tr>\n",
              "    <tr>\n",
              "      <th>1</th>\n",
              "      <td>1</td>\n",
              "      <td>108590</td>\n",
              "      <td>1</td>\n",
              "      <td>0.0</td>\n",
              "      <td>0.0</td>\n",
              "      <td>0.0</td>\n",
              "      <td>0.0</td>\n",
              "      <td>0.0</td>\n",
              "      <td>0.0</td>\n",
              "      <td>0.0</td>\n",
              "      <td>...</td>\n",
              "      <td>1.0</td>\n",
              "      <td>0.0</td>\n",
              "      <td>0.0</td>\n",
              "      <td>0.0</td>\n",
              "      <td>0.0</td>\n",
              "      <td>0.0</td>\n",
              "      <td>0.0</td>\n",
              "      <td>0.0</td>\n",
              "      <td>1.0</td>\n",
              "      <td>0.0</td>\n",
              "    </tr>\n",
              "    <tr>\n",
              "      <th>2</th>\n",
              "      <td>1</td>\n",
              "      <td>5000</td>\n",
              "      <td>0</td>\n",
              "      <td>0.0</td>\n",
              "      <td>0.0</td>\n",
              "      <td>0.0</td>\n",
              "      <td>0.0</td>\n",
              "      <td>0.0</td>\n",
              "      <td>0.0</td>\n",
              "      <td>0.0</td>\n",
              "      <td>...</td>\n",
              "      <td>0.0</td>\n",
              "      <td>0.0</td>\n",
              "      <td>0.0</td>\n",
              "      <td>0.0</td>\n",
              "      <td>0.0</td>\n",
              "      <td>0.0</td>\n",
              "      <td>0.0</td>\n",
              "      <td>0.0</td>\n",
              "      <td>1.0</td>\n",
              "      <td>0.0</td>\n",
              "    </tr>\n",
              "    <tr>\n",
              "      <th>3</th>\n",
              "      <td>1</td>\n",
              "      <td>6692</td>\n",
              "      <td>1</td>\n",
              "      <td>0.0</td>\n",
              "      <td>0.0</td>\n",
              "      <td>0.0</td>\n",
              "      <td>0.0</td>\n",
              "      <td>0.0</td>\n",
              "      <td>0.0</td>\n",
              "      <td>0.0</td>\n",
              "      <td>...</td>\n",
              "      <td>0.0</td>\n",
              "      <td>1.0</td>\n",
              "      <td>0.0</td>\n",
              "      <td>0.0</td>\n",
              "      <td>0.0</td>\n",
              "      <td>0.0</td>\n",
              "      <td>0.0</td>\n",
              "      <td>0.0</td>\n",
              "      <td>1.0</td>\n",
              "      <td>0.0</td>\n",
              "    </tr>\n",
              "    <tr>\n",
              "      <th>4</th>\n",
              "      <td>1</td>\n",
              "      <td>142590</td>\n",
              "      <td>1</td>\n",
              "      <td>0.0</td>\n",
              "      <td>0.0</td>\n",
              "      <td>0.0</td>\n",
              "      <td>0.0</td>\n",
              "      <td>0.0</td>\n",
              "      <td>0.0</td>\n",
              "      <td>0.0</td>\n",
              "      <td>...</td>\n",
              "      <td>0.0</td>\n",
              "      <td>0.0</td>\n",
              "      <td>1.0</td>\n",
              "      <td>0.0</td>\n",
              "      <td>0.0</td>\n",
              "      <td>0.0</td>\n",
              "      <td>0.0</td>\n",
              "      <td>0.0</td>\n",
              "      <td>1.0</td>\n",
              "      <td>0.0</td>\n",
              "    </tr>\n",
              "  </tbody>\n",
              "</table>\n",
              "<p>5 rows × 447 columns</p>\n",
              "</div>\n",
              "      <button class=\"colab-df-convert\" onclick=\"convertToInteractive('df-7aee4c43-66b1-428f-9343-391905e4f5ba')\"\n",
              "              title=\"Convert this dataframe to an interactive table.\"\n",
              "              style=\"display:none;\">\n",
              "        \n",
              "  <svg xmlns=\"http://www.w3.org/2000/svg\" height=\"24px\"viewBox=\"0 0 24 24\"\n",
              "       width=\"24px\">\n",
              "    <path d=\"M0 0h24v24H0V0z\" fill=\"none\"/>\n",
              "    <path d=\"M18.56 5.44l.94 2.06.94-2.06 2.06-.94-2.06-.94-.94-2.06-.94 2.06-2.06.94zm-11 1L8.5 8.5l.94-2.06 2.06-.94-2.06-.94L8.5 2.5l-.94 2.06-2.06.94zm10 10l.94 2.06.94-2.06 2.06-.94-2.06-.94-.94-2.06-.94 2.06-2.06.94z\"/><path d=\"M17.41 7.96l-1.37-1.37c-.4-.4-.92-.59-1.43-.59-.52 0-1.04.2-1.43.59L10.3 9.45l-7.72 7.72c-.78.78-.78 2.05 0 2.83L4 21.41c.39.39.9.59 1.41.59.51 0 1.02-.2 1.41-.59l7.78-7.78 2.81-2.81c.8-.78.8-2.07 0-2.86zM5.41 20L4 18.59l7.72-7.72 1.47 1.35L5.41 20z\"/>\n",
              "  </svg>\n",
              "      </button>\n",
              "      \n",
              "  <style>\n",
              "    .colab-df-container {\n",
              "      display:flex;\n",
              "      flex-wrap:wrap;\n",
              "      gap: 12px;\n",
              "    }\n",
              "\n",
              "    .colab-df-convert {\n",
              "      background-color: #E8F0FE;\n",
              "      border: none;\n",
              "      border-radius: 50%;\n",
              "      cursor: pointer;\n",
              "      display: none;\n",
              "      fill: #1967D2;\n",
              "      height: 32px;\n",
              "      padding: 0 0 0 0;\n",
              "      width: 32px;\n",
              "    }\n",
              "\n",
              "    .colab-df-convert:hover {\n",
              "      background-color: #E2EBFA;\n",
              "      box-shadow: 0px 1px 2px rgba(60, 64, 67, 0.3), 0px 1px 3px 1px rgba(60, 64, 67, 0.15);\n",
              "      fill: #174EA6;\n",
              "    }\n",
              "\n",
              "    [theme=dark] .colab-df-convert {\n",
              "      background-color: #3B4455;\n",
              "      fill: #D2E3FC;\n",
              "    }\n",
              "\n",
              "    [theme=dark] .colab-df-convert:hover {\n",
              "      background-color: #434B5C;\n",
              "      box-shadow: 0px 1px 3px 1px rgba(0, 0, 0, 0.15);\n",
              "      filter: drop-shadow(0px 1px 2px rgba(0, 0, 0, 0.3));\n",
              "      fill: #FFFFFF;\n",
              "    }\n",
              "  </style>\n",
              "\n",
              "      <script>\n",
              "        const buttonEl =\n",
              "          document.querySelector('#df-7aee4c43-66b1-428f-9343-391905e4f5ba button.colab-df-convert');\n",
              "        buttonEl.style.display =\n",
              "          google.colab.kernel.accessAllowed ? 'block' : 'none';\n",
              "\n",
              "        async function convertToInteractive(key) {\n",
              "          const element = document.querySelector('#df-7aee4c43-66b1-428f-9343-391905e4f5ba');\n",
              "          const dataTable =\n",
              "            await google.colab.kernel.invokeFunction('convertToInteractive',\n",
              "                                                     [key], {});\n",
              "          if (!dataTable) return;\n",
              "\n",
              "          const docLinkHtml = 'Like what you see? Visit the ' +\n",
              "            '<a target=\"_blank\" href=https://colab.research.google.com/notebooks/data_table.ipynb>data table notebook</a>'\n",
              "            + ' to learn more about interactive tables.';\n",
              "          element.innerHTML = '';\n",
              "          dataTable['output_type'] = 'display_data';\n",
              "          await google.colab.output.renderOutput(dataTable, element);\n",
              "          const docLink = document.createElement('div');\n",
              "          docLink.innerHTML = docLinkHtml;\n",
              "          element.appendChild(docLink);\n",
              "        }\n",
              "      </script>\n",
              "    </div>\n",
              "  </div>\n",
              "  "
            ]
          },
          "metadata": {},
          "execution_count": 51
        }
      ]
    },
    {
      "cell_type": "code",
      "source": [
        "# Split our preprocessed data into our features and target arrays\n",
        "y = application_df[\"IS_SUCCESSFUL\"].values\n",
        "X = application_df.drop([\"IS_SUCCESSFUL\"],1).values\n",
        "\n",
        "# Split the preprocessed data into a training and testing dataset\n",
        "X_train, X_test, y_train, y_test = train_test_split(X, y, random_state=28)"
      ],
      "metadata": {
        "colab": {
          "base_uri": "https://localhost:8080/"
        },
        "id": "SYOn0Fdphwkq",
        "outputId": "c1df98d0-027e-4699-e4ae-098f91f5bc43"
      },
      "execution_count": 52,
      "outputs": [
        {
          "output_type": "stream",
          "name": "stderr",
          "text": [
            "<ipython-input-52-99378d8154c2>:3: FutureWarning: In a future version of pandas all arguments of DataFrame.drop except for the argument 'labels' will be keyword-only\n",
            "  X = application_df.drop([\"IS_SUCCESSFUL\"],1).values\n"
          ]
        }
      ]
    },
    {
      "cell_type": "code",
      "source": [
        "# Create a StandardScaler instances\n",
        "scaler = StandardScaler()\n",
        "\n",
        "# Fit the StandardScaler\n",
        "X_scaler = scaler.fit(X_train)\n",
        "\n",
        "# Scale the data\n",
        "X_train_scaled = X_scaler.transform(X_train)\n",
        "X_test_scaled = X_scaler.transform(X_test)"
      ],
      "metadata": {
        "id": "uSHsyAgChzB6"
      },
      "execution_count": 53,
      "outputs": []
    },
    {
      "cell_type": "markdown",
      "source": [
        "#### Compile, Train and Evaluate the Model"
      ],
      "metadata": {
        "id": "dXMd5XTuh8wf"
      }
    },
    {
      "cell_type": "code",
      "source": [
        "# Define the model - deep neural net, i.e., the number of input features and hidden nodes for each layer.\n",
        "number_of_input_features = len(X_train[0])\n",
        "hidden_layer1_nodes = 30\n",
        "hidden_layer2_nodes = 25\n",
        "\n",
        "nn = tf.keras.models.Sequential()\n",
        "\n",
        "# First hidden layer\n",
        "nn.add(tf.keras.layers.Dense(units = hidden_layer1_nodes, input_dim = number_of_input_features, activation = 'relu'))\n",
        "\n",
        "# Second hidden layer\n",
        "nn.add(tf.keras.layers.Dense(units = hidden_layer2_nodes, input_dim = number_of_input_features, activation = 'relu'))\n",
        "\n",
        "# Output layer\n",
        "nn.add(tf.keras.layers.Dense(units=1, activation=\"sigmoid\"))\n",
        "\n",
        "# Check the structure of the model\n",
        "nn.summary()"
      ],
      "metadata": {
        "colab": {
          "base_uri": "https://localhost:8080/"
        },
        "id": "Pt0JQfNDh9Pb",
        "outputId": "c1d4eebe-a83f-4d9c-899a-09cbfe41ab49"
      },
      "execution_count": 54,
      "outputs": [
        {
          "output_type": "stream",
          "name": "stdout",
          "text": [
            "Model: \"sequential_2\"\n",
            "_________________________________________________________________\n",
            " Layer (type)                Output Shape              Param #   \n",
            "=================================================================\n",
            " dense_6 (Dense)             (None, 30)                13410     \n",
            "                                                                 \n",
            " dense_7 (Dense)             (None, 25)                775       \n",
            "                                                                 \n",
            " dense_8 (Dense)             (None, 1)                 26        \n",
            "                                                                 \n",
            "=================================================================\n",
            "Total params: 14,211\n",
            "Trainable params: 14,211\n",
            "Non-trainable params: 0\n",
            "_________________________________________________________________\n"
          ]
        }
      ]
    },
    {
      "cell_type": "code",
      "source": [
        "# Compile the model\n",
        "import os \n",
        "#from tensorflow.keras.callbacks import ModelCheckpoint\n",
        "\n",
        "# Define the checkpoint path and filenames\n",
        "os.makedirs(\"checkpoints/\",exist_ok=True)\n",
        "checkpoint_path = \"checkpoints/weights.{epoch:02d}.hdf5\"\n",
        "\n",
        "nn.compile(loss=\"binary_crossentropy\", optimizer=\"adam\", metrics= [\"accuracy\"])"
      ],
      "metadata": {
        "id": "cpzvPICYiCbn"
      },
      "execution_count": 55,
      "outputs": []
    },
    {
      "cell_type": "code",
      "source": [
        "# Train the model\n",
        "fit_model= nn.fit(X_train_scaled, y_train, epochs=100,validation_split = 0.15, verbose=1)"
      ],
      "metadata": {
        "colab": {
          "base_uri": "https://localhost:8080/"
        },
        "id": "9rzzuApQiFbd",
        "outputId": "a9ab1bcf-6689-4baf-d986-44ac9fb0f7e0"
      },
      "execution_count": 56,
      "outputs": [
        {
          "output_type": "stream",
          "name": "stdout",
          "text": [
            "Epoch 1/100\n",
            "684/684 [==============================] - 2s 3ms/step - loss: 0.4923 - accuracy: 0.7657 - val_loss: 0.4310 - val_accuracy: 0.7955\n",
            "Epoch 2/100\n",
            "684/684 [==============================] - 2s 3ms/step - loss: 0.4332 - accuracy: 0.7926 - val_loss: 0.4281 - val_accuracy: 0.7935\n",
            "Epoch 3/100\n",
            "684/684 [==============================] - 2s 3ms/step - loss: 0.4271 - accuracy: 0.7927 - val_loss: 0.4300 - val_accuracy: 0.7942\n",
            "Epoch 4/100\n",
            "684/684 [==============================] - 2s 3ms/step - loss: 0.4247 - accuracy: 0.7940 - val_loss: 0.4299 - val_accuracy: 0.7930\n",
            "Epoch 5/100\n",
            "684/684 [==============================] - 2s 3ms/step - loss: 0.4233 - accuracy: 0.7956 - val_loss: 0.4323 - val_accuracy: 0.7898\n",
            "Epoch 6/100\n",
            "684/684 [==============================] - 2s 4ms/step - loss: 0.4219 - accuracy: 0.7965 - val_loss: 0.4314 - val_accuracy: 0.7914\n",
            "Epoch 7/100\n",
            "684/684 [==============================] - 2s 3ms/step - loss: 0.4198 - accuracy: 0.7980 - val_loss: 0.4352 - val_accuracy: 0.7906\n",
            "Epoch 8/100\n",
            "684/684 [==============================] - 2s 4ms/step - loss: 0.4193 - accuracy: 0.7990 - val_loss: 0.4352 - val_accuracy: 0.7904\n",
            "Epoch 9/100\n",
            "684/684 [==============================] - 2s 3ms/step - loss: 0.4186 - accuracy: 0.7979 - val_loss: 0.4361 - val_accuracy: 0.7914\n",
            "Epoch 10/100\n",
            "684/684 [==============================] - 2s 3ms/step - loss: 0.4183 - accuracy: 0.7992 - val_loss: 0.4351 - val_accuracy: 0.7919\n",
            "Epoch 11/100\n",
            "684/684 [==============================] - 2s 2ms/step - loss: 0.4174 - accuracy: 0.7993 - val_loss: 0.4338 - val_accuracy: 0.7909\n",
            "Epoch 12/100\n",
            "684/684 [==============================] - 2s 3ms/step - loss: 0.4168 - accuracy: 0.8003 - val_loss: 0.4345 - val_accuracy: 0.7914\n",
            "Epoch 13/100\n",
            "684/684 [==============================] - 2s 2ms/step - loss: 0.4161 - accuracy: 0.8013 - val_loss: 0.4375 - val_accuracy: 0.7917\n",
            "Epoch 14/100\n",
            "684/684 [==============================] - 2s 3ms/step - loss: 0.4153 - accuracy: 0.8014 - val_loss: 0.4386 - val_accuracy: 0.7917\n",
            "Epoch 15/100\n",
            "684/684 [==============================] - 2s 3ms/step - loss: 0.4158 - accuracy: 0.8008 - val_loss: 0.4363 - val_accuracy: 0.7917\n",
            "Epoch 16/100\n",
            "684/684 [==============================] - 2s 3ms/step - loss: 0.4143 - accuracy: 0.8016 - val_loss: 0.4360 - val_accuracy: 0.7906\n",
            "Epoch 17/100\n",
            "684/684 [==============================] - 2s 2ms/step - loss: 0.4141 - accuracy: 0.8021 - val_loss: 0.4369 - val_accuracy: 0.7909\n",
            "Epoch 18/100\n",
            "684/684 [==============================] - 2s 3ms/step - loss: 0.4132 - accuracy: 0.8014 - val_loss: 0.4384 - val_accuracy: 0.7950\n",
            "Epoch 19/100\n",
            "684/684 [==============================] - 2s 3ms/step - loss: 0.4135 - accuracy: 0.8015 - val_loss: 0.4399 - val_accuracy: 0.7914\n",
            "Epoch 20/100\n",
            "684/684 [==============================] - 2s 3ms/step - loss: 0.4131 - accuracy: 0.8014 - val_loss: 0.4377 - val_accuracy: 0.7919\n",
            "Epoch 21/100\n",
            "684/684 [==============================] - 2s 2ms/step - loss: 0.4125 - accuracy: 0.8022 - val_loss: 0.4405 - val_accuracy: 0.7922\n",
            "Epoch 22/100\n",
            "684/684 [==============================] - 2s 2ms/step - loss: 0.4125 - accuracy: 0.8023 - val_loss: 0.4388 - val_accuracy: 0.7917\n",
            "Epoch 23/100\n",
            "684/684 [==============================] - 2s 3ms/step - loss: 0.4119 - accuracy: 0.8028 - val_loss: 0.4388 - val_accuracy: 0.7937\n",
            "Epoch 24/100\n",
            "684/684 [==============================] - 2s 3ms/step - loss: 0.4116 - accuracy: 0.8019 - val_loss: 0.4400 - val_accuracy: 0.7919\n",
            "Epoch 25/100\n",
            "684/684 [==============================] - 2s 3ms/step - loss: 0.4110 - accuracy: 0.8030 - val_loss: 0.4399 - val_accuracy: 0.7906\n",
            "Epoch 26/100\n",
            "684/684 [==============================] - 2s 3ms/step - loss: 0.4110 - accuracy: 0.8043 - val_loss: 0.4396 - val_accuracy: 0.7924\n",
            "Epoch 27/100\n",
            "684/684 [==============================] - 2s 3ms/step - loss: 0.4107 - accuracy: 0.8027 - val_loss: 0.4381 - val_accuracy: 0.7930\n",
            "Epoch 28/100\n",
            "684/684 [==============================] - 2s 3ms/step - loss: 0.4102 - accuracy: 0.8036 - val_loss: 0.4396 - val_accuracy: 0.7922\n",
            "Epoch 29/100\n",
            "684/684 [==============================] - 2s 3ms/step - loss: 0.4101 - accuracy: 0.8038 - val_loss: 0.4403 - val_accuracy: 0.7914\n",
            "Epoch 30/100\n",
            "684/684 [==============================] - 2s 2ms/step - loss: 0.4094 - accuracy: 0.8042 - val_loss: 0.4431 - val_accuracy: 0.7909\n",
            "Epoch 31/100\n",
            "684/684 [==============================] - 2s 3ms/step - loss: 0.4096 - accuracy: 0.8034 - val_loss: 0.4433 - val_accuracy: 0.7914\n",
            "Epoch 32/100\n",
            "684/684 [==============================] - 2s 2ms/step - loss: 0.4094 - accuracy: 0.8037 - val_loss: 0.4412 - val_accuracy: 0.7901\n",
            "Epoch 33/100\n",
            "684/684 [==============================] - 2s 3ms/step - loss: 0.4088 - accuracy: 0.8037 - val_loss: 0.4423 - val_accuracy: 0.7911\n",
            "Epoch 34/100\n",
            "684/684 [==============================] - 2s 3ms/step - loss: 0.4087 - accuracy: 0.8039 - val_loss: 0.4404 - val_accuracy: 0.7904\n",
            "Epoch 35/100\n",
            "684/684 [==============================] - 2s 3ms/step - loss: 0.4082 - accuracy: 0.8043 - val_loss: 0.4427 - val_accuracy: 0.7901\n",
            "Epoch 36/100\n",
            "684/684 [==============================] - 2s 2ms/step - loss: 0.4083 - accuracy: 0.8051 - val_loss: 0.4433 - val_accuracy: 0.7904\n",
            "Epoch 37/100\n",
            "684/684 [==============================] - 2s 3ms/step - loss: 0.4076 - accuracy: 0.8049 - val_loss: 0.4422 - val_accuracy: 0.7898\n",
            "Epoch 38/100\n",
            "684/684 [==============================] - 2s 3ms/step - loss: 0.4076 - accuracy: 0.8044 - val_loss: 0.4433 - val_accuracy: 0.7911\n",
            "Epoch 39/100\n",
            "684/684 [==============================] - 2s 3ms/step - loss: 0.4075 - accuracy: 0.8046 - val_loss: 0.4447 - val_accuracy: 0.7911\n",
            "Epoch 40/100\n",
            "684/684 [==============================] - 2s 3ms/step - loss: 0.4073 - accuracy: 0.8046 - val_loss: 0.4466 - val_accuracy: 0.7885\n",
            "Epoch 41/100\n",
            "684/684 [==============================] - 2s 3ms/step - loss: 0.4069 - accuracy: 0.8055 - val_loss: 0.4466 - val_accuracy: 0.7914\n",
            "Epoch 42/100\n",
            "684/684 [==============================] - 2s 3ms/step - loss: 0.4068 - accuracy: 0.8045 - val_loss: 0.4476 - val_accuracy: 0.7917\n",
            "Epoch 43/100\n",
            "684/684 [==============================] - 2s 3ms/step - loss: 0.4065 - accuracy: 0.8056 - val_loss: 0.4454 - val_accuracy: 0.7898\n",
            "Epoch 44/100\n",
            "684/684 [==============================] - 2s 3ms/step - loss: 0.4066 - accuracy: 0.8059 - val_loss: 0.4452 - val_accuracy: 0.7904\n",
            "Epoch 45/100\n",
            "684/684 [==============================] - 2s 3ms/step - loss: 0.4064 - accuracy: 0.8061 - val_loss: 0.4462 - val_accuracy: 0.7893\n",
            "Epoch 46/100\n",
            "684/684 [==============================] - 2s 3ms/step - loss: 0.4061 - accuracy: 0.8058 - val_loss: 0.4462 - val_accuracy: 0.7919\n",
            "Epoch 47/100\n",
            "684/684 [==============================] - 2s 3ms/step - loss: 0.4057 - accuracy: 0.8048 - val_loss: 0.4450 - val_accuracy: 0.7893\n",
            "Epoch 48/100\n",
            "684/684 [==============================] - 2s 3ms/step - loss: 0.4056 - accuracy: 0.8050 - val_loss: 0.4449 - val_accuracy: 0.7917\n",
            "Epoch 49/100\n",
            "684/684 [==============================] - 2s 3ms/step - loss: 0.4053 - accuracy: 0.8070 - val_loss: 0.4495 - val_accuracy: 0.7901\n",
            "Epoch 50/100\n",
            "684/684 [==============================] - 2s 3ms/step - loss: 0.4061 - accuracy: 0.8047 - val_loss: 0.4481 - val_accuracy: 0.7917\n",
            "Epoch 51/100\n",
            "684/684 [==============================] - 2s 3ms/step - loss: 0.4052 - accuracy: 0.8062 - val_loss: 0.4474 - val_accuracy: 0.7893\n",
            "Epoch 52/100\n",
            "684/684 [==============================] - 2s 3ms/step - loss: 0.4049 - accuracy: 0.8059 - val_loss: 0.4486 - val_accuracy: 0.7911\n",
            "Epoch 53/100\n",
            "684/684 [==============================] - 2s 2ms/step - loss: 0.4049 - accuracy: 0.8063 - val_loss: 0.4466 - val_accuracy: 0.7917\n",
            "Epoch 54/100\n",
            "684/684 [==============================] - 2s 3ms/step - loss: 0.4045 - accuracy: 0.8071 - val_loss: 0.4515 - val_accuracy: 0.7911\n",
            "Epoch 55/100\n",
            "684/684 [==============================] - 2s 3ms/step - loss: 0.4046 - accuracy: 0.8063 - val_loss: 0.4481 - val_accuracy: 0.7896\n",
            "Epoch 56/100\n",
            "684/684 [==============================] - 2s 3ms/step - loss: 0.4042 - accuracy: 0.8060 - val_loss: 0.4494 - val_accuracy: 0.7893\n",
            "Epoch 57/100\n",
            "684/684 [==============================] - 2s 3ms/step - loss: 0.4039 - accuracy: 0.8063 - val_loss: 0.4480 - val_accuracy: 0.7885\n",
            "Epoch 58/100\n",
            "684/684 [==============================] - 2s 3ms/step - loss: 0.4042 - accuracy: 0.8069 - val_loss: 0.4489 - val_accuracy: 0.7904\n",
            "Epoch 59/100\n",
            "684/684 [==============================] - 2s 3ms/step - loss: 0.4041 - accuracy: 0.8062 - val_loss: 0.4536 - val_accuracy: 0.7904\n",
            "Epoch 60/100\n",
            "684/684 [==============================] - 2s 3ms/step - loss: 0.4040 - accuracy: 0.8064 - val_loss: 0.4547 - val_accuracy: 0.7888\n",
            "Epoch 61/100\n",
            "684/684 [==============================] - 2s 3ms/step - loss: 0.4032 - accuracy: 0.8072 - val_loss: 0.4531 - val_accuracy: 0.7904\n",
            "Epoch 62/100\n",
            "684/684 [==============================] - 2s 3ms/step - loss: 0.4034 - accuracy: 0.8073 - val_loss: 0.4524 - val_accuracy: 0.7901\n",
            "Epoch 63/100\n",
            "684/684 [==============================] - 2s 3ms/step - loss: 0.4037 - accuracy: 0.8068 - val_loss: 0.4515 - val_accuracy: 0.7896\n",
            "Epoch 64/100\n",
            "684/684 [==============================] - 2s 3ms/step - loss: 0.4036 - accuracy: 0.8068 - val_loss: 0.4494 - val_accuracy: 0.7896\n",
            "Epoch 65/100\n",
            "684/684 [==============================] - 2s 3ms/step - loss: 0.4028 - accuracy: 0.8059 - val_loss: 0.4530 - val_accuracy: 0.7888\n",
            "Epoch 66/100\n",
            "684/684 [==============================] - 2s 3ms/step - loss: 0.4032 - accuracy: 0.8077 - val_loss: 0.4561 - val_accuracy: 0.7909\n",
            "Epoch 67/100\n",
            "684/684 [==============================] - 2s 3ms/step - loss: 0.4032 - accuracy: 0.8062 - val_loss: 0.4561 - val_accuracy: 0.7896\n",
            "Epoch 68/100\n",
            "684/684 [==============================] - 2s 3ms/step - loss: 0.4029 - accuracy: 0.8057 - val_loss: 0.4593 - val_accuracy: 0.7906\n",
            "Epoch 69/100\n",
            "684/684 [==============================] - 2s 3ms/step - loss: 0.4032 - accuracy: 0.8074 - val_loss: 0.4563 - val_accuracy: 0.7888\n",
            "Epoch 70/100\n",
            "684/684 [==============================] - 2s 2ms/step - loss: 0.4029 - accuracy: 0.8075 - val_loss: 0.4555 - val_accuracy: 0.7891\n",
            "Epoch 71/100\n",
            "684/684 [==============================] - 2s 3ms/step - loss: 0.4031 - accuracy: 0.8069 - val_loss: 0.4527 - val_accuracy: 0.7896\n",
            "Epoch 72/100\n",
            "684/684 [==============================] - 2s 3ms/step - loss: 0.4025 - accuracy: 0.8085 - val_loss: 0.4537 - val_accuracy: 0.7883\n",
            "Epoch 73/100\n",
            "684/684 [==============================] - 2s 3ms/step - loss: 0.4028 - accuracy: 0.8075 - val_loss: 0.4527 - val_accuracy: 0.7888\n",
            "Epoch 74/100\n",
            "684/684 [==============================] - 2s 3ms/step - loss: 0.4023 - accuracy: 0.8074 - val_loss: 0.4533 - val_accuracy: 0.7880\n",
            "Epoch 75/100\n",
            "684/684 [==============================] - 2s 2ms/step - loss: 0.4020 - accuracy: 0.8079 - val_loss: 0.4557 - val_accuracy: 0.7901\n",
            "Epoch 76/100\n",
            "684/684 [==============================] - 2s 2ms/step - loss: 0.4023 - accuracy: 0.8083 - val_loss: 0.4558 - val_accuracy: 0.7896\n",
            "Epoch 77/100\n",
            "684/684 [==============================] - 2s 2ms/step - loss: 0.4022 - accuracy: 0.8081 - val_loss: 0.4547 - val_accuracy: 0.7904\n",
            "Epoch 78/100\n",
            "684/684 [==============================] - 2s 3ms/step - loss: 0.4020 - accuracy: 0.8080 - val_loss: 0.4545 - val_accuracy: 0.7904\n",
            "Epoch 79/100\n",
            "684/684 [==============================] - 2s 3ms/step - loss: 0.4022 - accuracy: 0.8087 - val_loss: 0.4524 - val_accuracy: 0.7906\n",
            "Epoch 80/100\n",
            "684/684 [==============================] - 2s 3ms/step - loss: 0.4015 - accuracy: 0.8070 - val_loss: 0.4596 - val_accuracy: 0.7904\n",
            "Epoch 81/100\n",
            "684/684 [==============================] - 2s 3ms/step - loss: 0.4018 - accuracy: 0.8077 - val_loss: 0.4565 - val_accuracy: 0.7893\n",
            "Epoch 82/100\n",
            "684/684 [==============================] - 2s 2ms/step - loss: 0.4018 - accuracy: 0.8075 - val_loss: 0.4587 - val_accuracy: 0.7883\n",
            "Epoch 83/100\n",
            "684/684 [==============================] - 2s 3ms/step - loss: 0.4019 - accuracy: 0.8074 - val_loss: 0.4577 - val_accuracy: 0.7911\n",
            "Epoch 84/100\n",
            "684/684 [==============================] - 2s 3ms/step - loss: 0.4013 - accuracy: 0.8078 - val_loss: 0.4611 - val_accuracy: 0.7906\n",
            "Epoch 85/100\n",
            "684/684 [==============================] - 2s 3ms/step - loss: 0.4019 - accuracy: 0.8077 - val_loss: 0.4548 - val_accuracy: 0.7888\n",
            "Epoch 86/100\n",
            "684/684 [==============================] - 2s 3ms/step - loss: 0.4013 - accuracy: 0.8086 - val_loss: 0.4558 - val_accuracy: 0.7893\n",
            "Epoch 87/100\n",
            "684/684 [==============================] - 2s 3ms/step - loss: 0.4011 - accuracy: 0.8078 - val_loss: 0.4579 - val_accuracy: 0.7893\n",
            "Epoch 88/100\n",
            "684/684 [==============================] - 2s 2ms/step - loss: 0.4012 - accuracy: 0.8079 - val_loss: 0.4544 - val_accuracy: 0.7901\n",
            "Epoch 89/100\n",
            "684/684 [==============================] - 2s 3ms/step - loss: 0.4014 - accuracy: 0.8082 - val_loss: 0.4545 - val_accuracy: 0.7896\n",
            "Epoch 90/100\n",
            "684/684 [==============================] - 2s 2ms/step - loss: 0.4010 - accuracy: 0.8083 - val_loss: 0.4539 - val_accuracy: 0.7906\n",
            "Epoch 91/100\n",
            "684/684 [==============================] - 2s 2ms/step - loss: 0.4008 - accuracy: 0.8081 - val_loss: 0.4586 - val_accuracy: 0.7904\n",
            "Epoch 92/100\n",
            "684/684 [==============================] - 2s 3ms/step - loss: 0.4016 - accuracy: 0.8073 - val_loss: 0.4523 - val_accuracy: 0.7906\n",
            "Epoch 93/100\n",
            "684/684 [==============================] - 2s 3ms/step - loss: 0.4006 - accuracy: 0.8077 - val_loss: 0.4578 - val_accuracy: 0.7891\n",
            "Epoch 94/100\n",
            "684/684 [==============================] - 2s 3ms/step - loss: 0.4008 - accuracy: 0.8084 - val_loss: 0.4581 - val_accuracy: 0.7891\n",
            "Epoch 95/100\n",
            "684/684 [==============================] - 2s 3ms/step - loss: 0.4008 - accuracy: 0.8080 - val_loss: 0.4541 - val_accuracy: 0.7896\n",
            "Epoch 96/100\n",
            "684/684 [==============================] - 2s 3ms/step - loss: 0.4002 - accuracy: 0.8087 - val_loss: 0.4549 - val_accuracy: 0.7919\n",
            "Epoch 97/100\n",
            "684/684 [==============================] - 2s 3ms/step - loss: 0.4007 - accuracy: 0.8085 - val_loss: 0.4597 - val_accuracy: 0.7893\n",
            "Epoch 98/100\n",
            "684/684 [==============================] - 2s 2ms/step - loss: 0.4007 - accuracy: 0.8073 - val_loss: 0.4539 - val_accuracy: 0.7883\n",
            "Epoch 99/100\n",
            "684/684 [==============================] - 2s 3ms/step - loss: 0.4007 - accuracy: 0.8079 - val_loss: 0.4542 - val_accuracy: 0.7870\n",
            "Epoch 100/100\n",
            "684/684 [==============================] - 2s 3ms/step - loss: 0.4004 - accuracy: 0.8092 - val_loss: 0.4537 - val_accuracy: 0.7896\n"
          ]
        }
      ]
    },
    {
      "cell_type": "code",
      "source": [
        "# Evaluate the model using the test data\n",
        "model_loss, model_accuracy = nn.evaluate(X_test_scaled,y_test,verbose=2)\n",
        "print(f\"Loss: {model_loss}, Accuracy: {model_accuracy}\")"
      ],
      "metadata": {
        "colab": {
          "base_uri": "https://localhost:8080/"
        },
        "id": "H1h-ShwviHrR",
        "outputId": "44c4218f-9960-44ba-cc51-8401c1704f5e"
      },
      "execution_count": 57,
      "outputs": [
        {
          "output_type": "stream",
          "name": "stdout",
          "text": [
            "268/268 - 0s - loss: 0.4650 - accuracy: 0.7957 - 352ms/epoch - 1ms/step\n",
            "Loss: 0.46499329805374146, Accuracy: 0.7956851124763489\n"
          ]
        }
      ]
    },
    {
      "cell_type": "code",
      "source": [
        "# Create a DataFrame containing training history\n",
        "history_df = pd.DataFrame(fit_model.history, index=range(1,len(fit_model.history[\"loss\"])+1))\n",
        "\n",
        "# Plot the loss\n",
        "history_df.plot(y=\"loss\")"
      ],
      "metadata": {
        "colab": {
          "base_uri": "https://localhost:8080/",
          "height": 283
        },
        "id": "6SOdkFLBoChv",
        "outputId": "0ade1fc4-7fcb-4493-989b-40e6c9a4c54f"
      },
      "execution_count": 58,
      "outputs": [
        {
          "output_type": "execute_result",
          "data": {
            "text/plain": [
              "<matplotlib.axes._subplots.AxesSubplot at 0x7fe24b99de80>"
            ]
          },
          "metadata": {},
          "execution_count": 58
        },
        {
          "output_type": "display_data",
          "data": {
            "text/plain": [
              "<Figure size 432x288 with 1 Axes>"
            ],
            "image/png": "[encoded data removed]"
          },
          "metadata": {
            "needs_background": "light"
          }
        }
      ]
    },
    {
      "cell_type": "code",
      "source": [
        "# Plot the accuracy\n",
        "history_df.plot(y=\"accuracy\")"
      ],
      "metadata": {
        "colab": {
          "base_uri": "https://localhost:8080/",
          "height": 283
        },
        "id": "FP9Bga0WogM4",
        "outputId": "b4c1a419-9643-47b1-b73f-bae084bc19d5"
      },
      "execution_count": 59,
      "outputs": [
        {
          "output_type": "execute_result",
          "data": {
            "text/plain": [
              "<matplotlib.axes._subplots.AxesSubplot at 0x7fe24ba2ed30>"
            ]
          },
          "metadata": {},
          "execution_count": 59
        },
        {
          "output_type": "display_data",
          "data": {
            "text/plain": [
              "<Figure size 432x288 with 1 Axes>"
            ],
            "image/png": "[encoded data removed]"
          },
          "metadata": {
            "needs_background": "light"
          }
        }
      ]
    }
  ]
}